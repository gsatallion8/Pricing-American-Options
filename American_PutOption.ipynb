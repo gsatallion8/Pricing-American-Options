{
 "cells": [
  {
   "cell_type": "code",
   "execution_count": 1,
   "metadata": {},
   "outputs": [],
   "source": [
    "%matplotlib inline\n",
    "import numpy as np\n",
    "import matplotlib.pyplot as plt"
   ]
  },
  {
   "cell_type": "markdown",
   "metadata": {},
   "source": [
    "S_0 is the current stock price\n",
    "\n",
    "K is the strike price\n",
    "\n",
    "T is the expiration time\n",
    "\n",
    "Vol is the volatality in the stock price\n",
    "\n",
    "r is the rate of return\n",
    "\n",
    "n is the number of discrete times when option can be executed\n",
    "\n",
    "As $n\\to\\infty$, the price converges to that of a true american put option."
   ]
  },
  {
   "cell_type": "code",
   "execution_count": 23,
   "metadata": {},
   "outputs": [],
   "source": [
    "def AmericanPutOptionPrice(S_0, K, T, Vol, r, n):\n",
    "    \n",
    "    u = np.exp(Vol*np.sqrt(T/n))\n",
    "    d = np.exp(-Vol*np.sqrt(T/n))\n",
    "    beta = np.exp(-r*T/n)\n",
    "    p = (1/beta - d)/(u - d)\n",
    "\n",
    "    V = np.zeros([n+1,n+1])\n",
    "    \n",
    "    for i in range(n+1):\n",
    "        V[n,i] = max(K - u**i * d**(n-i) * S_0, 0)\n",
    "    \n",
    "    for k in np.arange(n-1, -1, -1):\n",
    "        for i in range(k+1):\n",
    "            V[k,i] = max(K - u**i * d**(k-i) * S_0, beta*(p*V[k+1,i+1]+(1-p)*V[k+1,i]))\n",
    "            \n",
    "    return V[0,0]"
   ]
  },
  {
   "cell_type": "code",
   "execution_count": 40,
   "metadata": {},
   "outputs": [
    {
     "data": {
      "text/plain": [
       "6.927852307816726"
      ]
     },
     "execution_count": 40,
     "metadata": {},
     "output_type": "execute_result"
    }
   ],
   "source": [
    "S_0 = 10.0\n",
    "K = 15.0\n",
    "T = 1.0\n",
    "Vol = 1.0\n",
    "r = 0.09\n",
    "n = 100\n",
    "\n",
    "AmericanPutOptionPrice(S_0, K, T, Vol, r, n)"
   ]
  },
  {
   "cell_type": "code",
   "execution_count": 42,
   "metadata": {},
   "outputs": [
    {
     "data": {
      "image/png": "[encoded data removed]",
      "text/plain": [
       "<matplotlib.figure.Figure at 0x7efbd3503dd8>"
      ]
     },
     "metadata": {},
     "output_type": "display_data"
    }
   ],
   "source": [
    "N = 50\n",
    "price = np.zeros(N)\n",
    "for i in range(N):\n",
    "    price[i] = AmericanPutOptionPrice(S_0, K, T, Vol, r, (i+1)*10)\n",
    "plt.plot(price)\n",
    "plt.show()"
   ]
  },
  {
   "cell_type": "code",
   "execution_count": null,
   "metadata": {},
   "outputs": [],
   "source": []
  }
 ],
 "metadata": {
  "kernelspec": {
   "display_name": "Python 3",
   "language": "python",
   "name": "python3"
  },
  "language_info": {
   "codemirror_mode": {
    "name": "ipython",
    "version": 3
   },
   "file_extension": ".py",
   "mimetype": "text/x-python",
   "name": "python",
   "nbconvert_exporter": "python",
   "pygments_lexer": "ipython3",
   "version": "3.6.4"
  }
 },
 "nbformat": 4,
 "nbformat_minor": 2
}
